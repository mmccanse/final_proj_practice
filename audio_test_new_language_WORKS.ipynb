{
 "cells": [
  {
   "cell_type": "code",
   "execution_count": 1,
   "metadata": {},
   "outputs": [],
   "source": [
    "# pip install boto3"
   ]
  },
  {
   "cell_type": "code",
   "execution_count": 2,
   "metadata": {},
   "outputs": [],
   "source": [
    "# pip install awscli"
   ]
  },
  {
   "cell_type": "code",
   "execution_count": 21,
   "metadata": {},
   "outputs": [
    {
     "name": "stdout",
     "output_type": "stream",
     "text": [
      "Collecting sentencepiece\n",
      "  Obtaining dependency information for sentencepiece from https://files.pythonhosted.org/packages/a2/f6/587c62fd21fc988555b85351f50bbde43a51524caafd63bc69240ded14fd/sentencepiece-0.2.0-cp311-cp311-win_amd64.whl.metadata\n",
      "  Downloading sentencepiece-0.2.0-cp311-cp311-win_amd64.whl.metadata (8.3 kB)\n",
      "Downloading sentencepiece-0.2.0-cp311-cp311-win_amd64.whl (991 kB)\n",
      "   ---------------------------------------- 0.0/991.5 kB ? eta -:--:--\n",
      "   ---------------------------------------- 10.2/991.5 kB ? eta -:--:--\n",
      "   --- ------------------------------------ 92.2/991.5 kB 1.3 MB/s eta 0:00:01\n",
      "   ------- -------------------------------- 184.3/991.5 kB 1.6 MB/s eta 0:00:01\n",
      "   -------------------- ------------------- 512.0/991.5 kB 3.2 MB/s eta 0:00:01\n",
      "   --------------------------------- ------ 839.7/991.5 kB 4.1 MB/s eta 0:00:01\n",
      "   ---------------------------------------- 991.5/991.5 kB 4.8 MB/s eta 0:00:00\n",
      "Installing collected packages: sentencepiece\n",
      "Successfully installed sentencepiece-0.2.0\n",
      "Note: you may need to restart the kernel to use updated packages.\n"
     ]
    }
   ],
   "source": [
    "# pip install sentencepiece"
   ]
  },
  {
   "cell_type": "code",
   "execution_count": 1,
   "metadata": {},
   "outputs": [
    {
     "name": "stdout",
     "output_type": "stream",
     "text": [
      "WARNING:tensorflow:From c:\\Users\\mered\\anaconda3\\Lib\\site-packages\\keras\\src\\losses.py:2976: The name tf.losses.sparse_softmax_cross_entropy is deprecated. Please use tf.compat.v1.losses.sparse_softmax_cross_entropy instead.\n",
      "\n"
     ]
    }
   ],
   "source": [
    "import gradio as gr\n",
    "from transformers import pipeline, AutoTokenizer, TFAutoModelForSeq2SeqLM\n",
    "from dotenv import load_dotenv\n",
    "import os\n",
    "import subprocess\n",
    "import torch\n",
    "#Google Text to Speech\n",
    "from gtts import gTTS\n",
    "import tempfile\n",
    "\n",
    "import boto3"
   ]
  },
  {
   "cell_type": "code",
   "execution_count": 4,
   "metadata": {},
   "outputs": [],
   "source": [
    "# Load environment variables.\n",
    "load_dotenv()\n",
    "\n",
    "# Set the model name for our LLMs.\n",
    "OPENAI_MODEL = \"gpt-3.5-turbo\"\n",
    "# Store the API key in a variable.\n",
    "OPENAI_API_KEY = os.getenv(\"OPENAI_API_KEY\")"
   ]
  },
  {
   "cell_type": "code",
   "execution_count": 5,
   "metadata": {},
   "outputs": [],
   "source": [
    "# This function transcribes audio to text using Whisper in the original language it was spoken\n",
    "def transcribe_audio_original(audio_filepath):\n",
    "    try:\n",
    "        transcription_pipeline = pipeline(\"automatic-speech-recognition\", model=\"openai/whisper-large\")\n",
    "        transcription_result = transcription_pipeline(audio_filepath)\n",
    "        transcribed_text = transcription_result['text']\n",
    "        return transcribed_text\n",
    "    except Exception as e:\n",
    "        print(f\"an error occured: {e}\")\n",
    "        return \"Error in transcription\""
   ]
  },
  {
   "cell_type": "code",
   "execution_count": 2,
   "metadata": {},
   "outputs": [],
   "source": [
    "from transformers import pipeline\n",
    "from transformers import MarianMTModel, MarianTokenizer\n",
    "\n",
    "# This function transcribes audio to text and then translates it into the specified language\n",
    "def translate(transcribed_text, src_lang=\"en\", target_lang=\"es\"):\n",
    "    try:\n",
    "        #Define the model and tokenizer\n",
    "        model_name =f\"Helsinki-NLP/opus-mt-{src_lang}-{target_lang}\"\n",
    "        tokenizer = MarianTokenizer.from_pretrained(model_name)\n",
    "        model = MarianMTModel.from_pretrained(model_name)\n",
    "        \n",
    "        #tokenize the text\n",
    "        encoded_text = tokenizer(text, return_tensors=\"pt\", padding=True)\n",
    "        \n",
    "        #generate translation using the model\n",
    "        translated_tokens = model.generate(**encoded_text)\n",
    "        \n",
    "        #decode the translated tokens\n",
    "        translated_text = tokenizer.decode(translated_tokens[0], skip_special_tokens=True)\n",
    "        \n",
    "        return translated_text\n",
    "        \n",
    "    except Exception as e:\n",
    "        print(f\"An error occurred: {e}\")\n",
    "        return \"Error in transcription or translation\""
   ]
  },
  {
   "cell_type": "code",
   "execution_count": 14,
   "metadata": {},
   "outputs": [
    {
     "name": "stderr",
     "output_type": "stream",
     "text": [
      "Special tokens have been added in the vocabulary, make sure the associated word embeddings are fine-tuned or trained.\n"
     ]
    }
   ],
   "source": [
    "# test funciton to make sure it works\n",
    "transcribed_text = transcribe_audio_original('speech.mp3')"
   ]
  },
  {
   "cell_type": "code",
   "execution_count": 15,
   "metadata": {},
   "outputs": [
    {
     "name": "stdout",
     "output_type": "stream",
     "text": [
      " Hello, how are you? My name is Gregory and I need to say more words to find out how is sound.\n"
     ]
    }
   ],
   "source": [
    "print(f\"{transcribed_text}\")\n"
   ]
  },
  {
   "cell_type": "code",
   "execution_count": 16,
   "metadata": {},
   "outputs": [
    {
     "name": "stderr",
     "output_type": "stream",
     "text": [
      "c:\\Users\\mered\\anaconda3\\Lib\\site-packages\\transformers\\models\\marian\\tokenization_marian.py:197: UserWarning: Recommended: pip install sacremoses.\n",
      "  warnings.warn(\"Recommended: pip install sacremoses.\")\n"
     ]
    },
    {
     "name": "stdout",
     "output_type": "stream",
     "text": [
      "Translated text: Hola, ¿cómo estás? Mi nombre es Gregory y necesito decir más palabras para averiguar cómo suena.\n"
     ]
    }
   ],
   "source": [
    "# text = \"trying to see if we can translate this into Spanish\"\n",
    "translated_text = translate(transcribed_text, \"en\", \"es\")\n",
    "print(\"Translated text:\", translated_text)"
   ]
  },
  {
   "cell_type": "code",
   "execution_count": 20,
   "metadata": {},
   "outputs": [],
   "source": [
    "# Define function to translate text to speech for output\n",
    "# Uses Google Text-to-speech\n",
    "\n",
    "def text_to_speech(text):\n",
    "    tts = gTTS(text, lang='en')\n",
    "    temp_file = tempfile.NamedTemporaryFile(delete=False, suffix='.mp3')\n",
    "    tts.save(temp_file.name)\n",
    "    return temp_file.name"
   ]
  },
  {
   "cell_type": "code",
   "execution_count": 25,
   "metadata": {},
   "outputs": [],
   "source": [
    "# Define text-to-speech function using Amazon Polly\n",
    "\n",
    "def polly_text_to_speech(text, voice_id):\n",
    "    \n",
    "    try:\n",
    "    \n",
    "        #initialize boto3 client for polly\n",
    "        polly_client = boto3.client('polly')\n",
    "        \n",
    "        #request speech synthesis\n",
    "        response = polly_client.synthesize_speech(\n",
    "            Engine = 'neural',\n",
    "            Text=text,\n",
    "            OutputFormat='mp3',\n",
    "            VoiceId=voice_id\n",
    "        )\n",
    "        \n",
    "        # Save the audio to a temporary file and return its path\n",
    "        if \"AudioStream\" in response:\n",
    "            with tempfile.NamedTemporaryFile(delete=False, suffix='.mp3') as audio_file:\n",
    "                audio_file.write(response['AudioStream'].read())\n",
    "                return audio_file.name\n",
    "    except boto3.exceptions.Boto3Error as e:\n",
    "        print(f\"Error accessing Polly: {e}\")\n",
    "    return None  # Return None if there was an error\n",
    "    "
   ]
  },
  {
   "cell_type": "code",
   "execution_count": 28,
   "metadata": {},
   "outputs": [],
   "source": [
    "def combined_function (audio_filepath):\n",
    "    transcribed_text = transcribe_audio_original(audio_filepath)\n",
    "    speech = polly_text_to_speech(transcribed_text, \"Gregory\")\n",
    "    translation = translate(transcribed_text, \"en\", \"es\")\n",
    "    translated_speech = polly_text_to_speech(translation, \"Mia\")\n",
    "    return transcribed_text, translation, speech, translated_speech"
   ]
  },
  {
   "cell_type": "code",
   "execution_count": 29,
   "metadata": {},
   "outputs": [
    {
     "name": "stdout",
     "output_type": "stream",
     "text": [
      "Running on local URL:  http://127.0.0.1:7866\n",
      "\n",
      "To create a public link, set `share=True` in `launch()`.\n"
     ]
    },
    {
     "data": {
      "text/html": [
       "<div><iframe src=\"http://127.0.0.1:7866/\" width=\"100%\" height=\"500\" allow=\"autoplay; camera; microphone; clipboard-read; clipboard-write;\" frameborder=\"0\" allowfullscreen></iframe></div>"
      ],
      "text/plain": [
       "<IPython.core.display.HTML object>"
      ]
     },
     "metadata": {},
     "output_type": "display_data"
    },
    {
     "data": {
      "text/plain": []
     },
     "execution_count": 29,
     "metadata": {},
     "output_type": "execute_result"
    },
    {
     "name": "stderr",
     "output_type": "stream",
     "text": [
      "Special tokens have been added in the vocabulary, make sure the associated word embeddings are fine-tuned or trained.\n",
      "c:\\Users\\mered\\anaconda3\\Lib\\site-packages\\transformers\\models\\marian\\tokenization_marian.py:197: UserWarning: Recommended: pip install sacremoses.\n",
      "  warnings.warn(\"Recommended: pip install sacremoses.\")\n"
     ]
    }
   ],
   "source": [
    "# Create Gradio app to:\n",
    "# 1. transcribe spoken audio to text\n",
    "# 2. output transcribed text as speech\n",
    "\n",
    "input_audio = gr.Audio(\n",
    "            label=\"click on microphone to record audio\", \n",
    "            type=\"filepath\", \n",
    "            #vaveform options customize the color of the wave seen when recording/playing.\n",
    "            waveform_options = gr.WaveformOptions(\n",
    "                waveform_color=\"#01C6FF\",\n",
    "                waveform_progress_color=\"#0066B4\",\n",
    "                skip_length=2,\n",
    "                show_controls=False,\n",
    "            ),\n",
    ")\n",
    "\n",
    "app = gr.Interface(\n",
    "    fn=combined_function,\n",
    "    inputs=input_audio,\n",
    "    outputs=[\n",
    "        gr.Textbox(label=\"Transcribed audio\"),\n",
    "        gr.Textbox(label=\"Translated text\"),\n",
    "        gr.Audio(label=\"English speech\"),\n",
    "        gr.Audio(label=\"Translated speech\")],\n",
    "    title=\"Audio Transcription and Text to Speech\",\n",
    "    description=\"click on the microphone to record audio, then receive transcription in text and speech.\")\n",
    "    \n",
    "app.launch(show_error=True) #share=True) #uncomment share=True in google colab"
   ]
  },
  {
   "cell_type": "code",
   "execution_count": null,
   "metadata": {},
   "outputs": [],
   "source": [
    "# create combined function with both transcribe audio and text_to_speech\n",
    "\n",
    "def combined_function (audio_filepath, language_option):\n",
    "    # language = language_option[0]\n",
    "    transcribed_text = transcribe_audio_original(audio_filepath)\n",
    "    \n",
    "    # map languages to Polly voice IDs\n",
    "    voice_map = {\n",
    "        \"English\": \"Joanna\",\n",
    "        \"Spanish\": \"Conchita\",\n",
    "        \"French\": \"Celine\",\n",
    "        \"German\": \"Marlene\",\n",
    "        \"Chinese\": \"Zhiyu\"\n",
    "    }\n",
    "    voice_id = voice_map.get(language_option, \"Joanna\")\n",
    "    transcribed_text_new = transcribe_and_translate(audio_filepath)\n",
    "    speech_file_path = polly_text_to_speech(transcribed_text, voice_id)\n",
    "    return transcribed_text, transcribed_text_new, speech_file_path\n"
   ]
  },
  {
   "cell_type": "code",
   "execution_count": null,
   "metadata": {},
   "outputs": [],
   "source": [
    "def test_function(audio_filepath, language):\n",
    "    return str(language)  # This will show what `language` is being received as.\n"
   ]
  },
  {
   "cell_type": "code",
   "execution_count": null,
   "metadata": {},
   "outputs": [],
   "source": [
    "# Create Gradio app to:\n",
    "# 1. transcribe spoken audio to text\n",
    "# 2. output transcribed text as speech\n",
    "\n",
    "languages = [\"English\", \"Spanish\", \"French\", \"German\", \"Chinese\"]\n",
    "input_audio = gr.Audio(label=\"Click on the microphone to record audio\", type=\"filepath\",\n",
    "                 waveform_options=gr.WaveformOptions(\n",
    "                     waveform_color=\"#01C6FF\",\n",
    "                     waveform_progress_color=\"#0066B4\",\n",
    "                     skip_length=2,\n",
    "                     show_controls=False,\n",
    "                     )\n",
    ")\n",
    "dropdown = gr.Dropdown(languages, label=\"Select Language\")\n",
    "\n",
    "app = gr.Interface(\n",
    "    fn=combined_function,\n",
    "    inputs=[input_audio, dropdown],\n",
    "    outputs=[\n",
    "        gr.Textbox(label=\"Transcribed audio\"),\n",
    "        gr.Audio(label=\"Text to speech output\")],\n",
    "    title=\"Audio Transcription and Text to Speech\",\n",
    "    description=\"Select a language, click on the microphone to record audio, then receive transcription in text and speech.\")\n",
    "    \n",
    "app.launch(show_error=True) #share=True) #uncomment share=True in google colab"
   ]
  },
  {
   "cell_type": "code",
   "execution_count": null,
   "metadata": {},
   "outputs": [],
   "source": [
    "# Create Gradio app to:\n",
    "# 1. transcribe spoken audio to text\n",
    "# 2. output transcribed text as speech\n",
    "\n",
    "languages = [\"English\", \"Spanish\", \"French\", \"German\", \"Chinese\"]\n",
    "input_audio = gr.Audio(label=\"Click on the microphone to record audio\", type=\"filepath\",\n",
    "                 waveform_options=gr.WaveformOptions(\n",
    "                     waveform_color=\"#01C6FF\",\n",
    "                     waveform_progress_color=\"#0066B4\",\n",
    "                     skip_length=2,\n",
    "                     show_controls=False,\n",
    "                     ))\n",
    "dropdown = gr.Dropdown(choices=[\"English\", \"Spanish\", \"French\", \"German\", \"Chinese\"], label=\"Select Language\")\n",
    "\n",
    "app = gr.Interface(\n",
    "    fn=combined_function,\n",
    "    inputs=[input_audio, dropdown],\n",
    "    outputs=[\n",
    "        gr.Textbox(label=\"Transcribed audio\"),\n",
    "        gr.Audio(label=\"Text to speech output\")],\n",
    "    title=\"Audio Transcription and Text to Speech\",\n",
    "    description=\"Select a language, click on the microphone to record audio, then receive transcription in text and speech.\")\n",
    "    \n",
    "app.launch(show_error=True) #share=True) #uncomment share=True in google colab"
   ]
  }
 ],
 "metadata": {
  "kernelspec": {
   "display_name": "base",
   "language": "python",
   "name": "python3"
  },
  "language_info": {
   "codemirror_mode": {
    "name": "ipython",
    "version": 3
   },
   "file_extension": ".py",
   "mimetype": "text/x-python",
   "name": "python",
   "nbconvert_exporter": "python",
   "pygments_lexer": "ipython3",
   "version": "3.11.5"
  }
 },
 "nbformat": 4,
 "nbformat_minor": 2
}
