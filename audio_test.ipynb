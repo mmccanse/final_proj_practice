{
 "cells": [
  {
   "cell_type": "code",
   "execution_count": 2,
   "metadata": {},
   "outputs": [
    {
     "data": {
      "text/plain": [
       "['Collecting gtts',\n",
       " '  Obtaining dependency information for gtts from https://files.pythonhosted.org/packages/59/a8/e3434904445eacf03b857ac001755d8ffac49b4f3339d63592b4eda009dc/gTTS-2.5.1-py3-none-any.whl.metadata',\n",
       " '  Downloading gTTS-2.5.1-py3-none-any.whl.metadata (4.1 kB)',\n",
       " 'Requirement already satisfied: requests<3,>=2.27 in c:\\\\users\\\\mered\\\\anaconda3\\\\lib\\\\site-packages (from gtts) (2.31.0)',\n",
       " 'Requirement already satisfied: click<8.2,>=7.1 in c:\\\\users\\\\mered\\\\anaconda3\\\\lib\\\\site-packages (from gtts) (8.1.7)',\n",
       " 'Requirement already satisfied: colorama in c:\\\\users\\\\mered\\\\anaconda3\\\\lib\\\\site-packages (from click<8.2,>=7.1->gtts) (0.4.6)',\n",
       " 'Requirement already satisfied: charset-normalizer<4,>=2 in c:\\\\users\\\\mered\\\\anaconda3\\\\lib\\\\site-packages (from requests<3,>=2.27->gtts) (2.0.4)',\n",
       " 'Requirement already satisfied: idna<4,>=2.5 in c:\\\\users\\\\mered\\\\anaconda3\\\\lib\\\\site-packages (from requests<3,>=2.27->gtts) (3.4)',\n",
       " 'Requirement already satisfied: urllib3<3,>=1.21.1 in c:\\\\users\\\\mered\\\\anaconda3\\\\lib\\\\site-packages (from requests<3,>=2.27->gtts) (2.0.7)',\n",
       " 'Requirement already satisfied: certifi>=2017.4.17 in c:\\\\users\\\\mered\\\\anaconda3\\\\lib\\\\site-packages (from requests<3,>=2.27->gtts) (2024.2.2)',\n",
       " 'Downloading gTTS-2.5.1-py3-none-any.whl (29 kB)',\n",
       " 'Installing collected packages: gtts',\n",
       " 'Successfully installed gtts-2.5.1']"
      ]
     },
     "execution_count": 2,
     "metadata": {},
     "output_type": "execute_result"
    }
   ],
   "source": [
    "# install Google Text to Speech library\n",
    "# !pip install gtts"
   ]
  },
  {
   "cell_type": "code",
   "execution_count": 1,
   "metadata": {},
   "outputs": [
    {
     "name": "stdout",
     "output_type": "stream",
     "text": [
      "WARNING:tensorflow:From c:\\Users\\mered\\anaconda3\\Lib\\site-packages\\keras\\src\\losses.py:2976: The name tf.losses.sparse_softmax_cross_entropy is deprecated. Please use tf.compat.v1.losses.sparse_softmax_cross_entropy instead.\n",
      "\n"
     ]
    }
   ],
   "source": [
    "import gradio as gr\n",
    "from transformers import pipeline\n",
    "from dotenv import load_dotenv\n",
    "import os\n",
    "import subprocess\n",
    "import torch\n",
    "\n",
    "#Google Text to Speech\n",
    "from gtts import gTTS\n",
    "import tempfile\n",
    "\n"
   ]
  },
  {
   "cell_type": "code",
   "execution_count": 2,
   "metadata": {},
   "outputs": [],
   "source": [
    "# print(torch.__version__)"
   ]
  },
  {
   "cell_type": "code",
   "execution_count": 2,
   "metadata": {},
   "outputs": [],
   "source": [
    "# Load environment variables.\n",
    "load_dotenv()\n",
    "\n",
    "# Set the model name for our LLMs.\n",
    "OPENAI_MODEL = \"gpt-3.5-turbo\"\n",
    "# Store the API key in a variable.\n",
    "OPENAI_API_KEY = os.getenv(\"OPENAI_API_KEY\")"
   ]
  },
  {
   "cell_type": "code",
   "execution_count": 3,
   "metadata": {},
   "outputs": [],
   "source": [
    "# convert audio file to a different format using ffmpeg\n",
    "\n",
    "def convert_audio(input_filepath, output_filepath):\n",
    "    #run ffmpeg and convert the audio file\n",
    "    command = ['ffmpeg', '-i', input_filepath, output_filepath]\n",
    "    \n",
    "    #run the command\n",
    "    subprocess.run(command, check=True)"
   ]
  },
  {
   "cell_type": "code",
   "execution_count": 5,
   "metadata": {},
   "outputs": [],
   "source": [
    "#input and output file paths and call the function\n",
    "\n",
    "#skip this step if you have already converted\n",
    "# input_file = 'Resources\\Recording.m4a'\n",
    "# output_file = 'Resources\\Recording.wav'\n",
    "# convert_audio(input_file, output_file)"
   ]
  },
  {
   "cell_type": "code",
   "execution_count": 6,
   "metadata": {},
   "outputs": [],
   "source": [
    "# This cell from class exercise for reference\n",
    "# Initialize the pipeline to translate using the t5-base model. \n",
    "# translator = pipeline(\"translation\", model=\"t5-base\")"
   ]
  },
  {
   "cell_type": "code",
   "execution_count": 4,
   "metadata": {},
   "outputs": [],
   "source": [
    "# This function transcribes audio to text using Whisper\n",
    "def transcribe_audio(audio_filepath):\n",
    "    try:\n",
    "        transcription_pipeline = pipeline(\"automatic-speech-recognition\", model=\"openai/whisper-large\")\n",
    "        transcription_result = transcription_pipeline(audio_filepath)\n",
    "        transcribed_text = transcription_result['text']\n",
    "        return transcribed_text\n",
    "    except Exception as e:\n",
    "        print(f\"an error occured: {e}\")\n",
    "        return \"Error in transcription\""
   ]
  },
  {
   "cell_type": "code",
   "execution_count": 5,
   "metadata": {},
   "outputs": [],
   "source": [
    "audio_filepath = 'Resources\\Recording.wav'  \n",
    "#transcribed_text = transcribe_audio(audio_file_path)\n",
    "\n",
    "\n"
   ]
  },
  {
   "cell_type": "code",
   "execution_count": 6,
   "metadata": {},
   "outputs": [],
   "source": [
    "# Define function to translate text to speech for output\n",
    "def text_to_speech(text):\n",
    "    tts = gTTS(text, lang='en')\n",
    "    temp_file = tempfile.NamedTemporaryFile(delete=False, suffix='.mp3')\n",
    "    tts.save(temp_file.name)\n",
    "    return temp_file.name"
   ]
  },
  {
   "cell_type": "code",
   "execution_count": 7,
   "metadata": {},
   "outputs": [],
   "source": [
    "# create combined function with both transcribe audio and text_to_speech\n",
    "\n",
    "def combined_function (audio_filepath):\n",
    "    transcribed_text = transcribe_audio(audio_filepath)\n",
    "    speech_file_path = text_to_speech(transcribed_text)\n",
    "    return transcribed_text, speech_file_path\n"
   ]
  },
  {
   "cell_type": "code",
   "execution_count": 10,
   "metadata": {},
   "outputs": [
    {
     "name": "stdout",
     "output_type": "stream",
     "text": [
      "Running on local URL:  http://127.0.0.1:7862\n",
      "\n",
      "To create a public link, set `share=True` in `launch()`.\n"
     ]
    },
    {
     "data": {
      "text/html": [
       "<div><iframe src=\"http://127.0.0.1:7862/\" width=\"100%\" height=\"500\" allow=\"autoplay; camera; microphone; clipboard-read; clipboard-write;\" frameborder=\"0\" allowfullscreen></iframe></div>"
      ],
      "text/plain": [
       "<IPython.core.display.HTML object>"
      ]
     },
     "metadata": {},
     "output_type": "display_data"
    },
    {
     "data": {
      "text/plain": []
     },
     "execution_count": 10,
     "metadata": {},
     "output_type": "execute_result"
    },
    {
     "name": "stderr",
     "output_type": "stream",
     "text": [
      "Special tokens have been added in the vocabulary, make sure the associated word embeddings are fine-tuned or trained.\n"
     ]
    }
   ],
   "source": [
    "# Create Gradio app to:\n",
    "# 1. transcribe spoken audio to text\n",
    "# 2. output transcribed text as speech\n",
    "\n",
    "app = gr.Interface(\n",
    "    fn=combined_function,\n",
    "    inputs=[\n",
    "        gr.Audio(label=\"click on microphone to record audio\", type=\"filepath\")], \n",
    "        waveform_options = gr.WaveformOptions(\n",
    "            waveform_color=\"#01C6FF\",\n",
    "            waveform_progress_color=\"#0066B4\",\n",
    "            skip_length=2,\n",
    "            show_controls=False,\n",
    "        ),\n",
    "        #The type=\"filepath\" is really important here. It tells the app to expect a string, not a numpy array. \n",
    "        # Should also be able to remove it altogether, but I had issues when I tried that.\n",
    "        \n",
    "    outputs=[\n",
    "        gr.Textbox(label=\"Transcribed audio\"),\n",
    "        gr.Audio(label=\"Text to speech output\")],\n",
    "    title=\"Audio Transcription and Text to Speech\",\n",
    "    description=\"click on the microphone to record audio, then receive transcription in text and speech.\")\n",
    "    \n",
    "app.launch(show_error=True)"
   ]
  },
  {
   "cell_type": "code",
   "execution_count": 11,
   "metadata": {},
   "outputs": [
    {
     "name": "stdout",
     "output_type": "stream",
     "text": [
      "Running on local URL:  http://127.0.0.1:7861\n",
      "\n",
      "To create a public link, set `share=True` in `launch()`.\n"
     ]
    },
    {
     "data": {
      "text/html": [
       "<div><iframe src=\"http://127.0.0.1:7861/\" width=\"100%\" height=\"500\" allow=\"autoplay; camera; microphone; clipboard-read; clipboard-write;\" frameborder=\"0\" allowfullscreen></iframe></div>"
      ],
      "text/plain": [
       "<IPython.core.display.HTML object>"
      ]
     },
     "metadata": {},
     "output_type": "display_data"
    },
    {
     "data": {
      "text/plain": []
     },
     "execution_count": 11,
     "metadata": {},
     "output_type": "execute_result"
    },
    {
     "name": "stderr",
     "output_type": "stream",
     "text": [
      "ERROR:    Exception in ASGI application\n",
      "Traceback (most recent call last):\n",
      "  File \"c:\\Users\\mered\\anaconda3\\Lib\\site-packages\\uvicorn\\protocols\\http\\h11_impl.py\", line 407, in run_asgi\n",
      "    result = await app(  # type: ignore[func-returns-value]\n",
      "             ^^^^^^^^^^^^^^^^^^^^^^^^^^^^^^^^^^^^^^^^^^^^^^\n",
      "  File \"c:\\Users\\mered\\anaconda3\\Lib\\site-packages\\uvicorn\\middleware\\proxy_headers.py\", line 69, in __call__\n",
      "    return await self.app(scope, receive, send)\n",
      "           ^^^^^^^^^^^^^^^^^^^^^^^^^^^^^^^^^^^^\n",
      "  File \"c:\\Users\\mered\\anaconda3\\Lib\\site-packages\\fastapi\\applications.py\", line 1054, in __call__\n",
      "    await super().__call__(scope, receive, send)\n",
      "  File \"c:\\Users\\mered\\anaconda3\\Lib\\site-packages\\starlette\\applications.py\", line 123, in __call__\n",
      "    await self.middleware_stack(scope, receive, send)\n",
      "  File \"c:\\Users\\mered\\anaconda3\\Lib\\site-packages\\starlette\\middleware\\errors.py\", line 186, in __call__\n",
      "    raise exc\n",
      "  File \"c:\\Users\\mered\\anaconda3\\Lib\\site-packages\\starlette\\middleware\\errors.py\", line 164, in __call__\n",
      "    await self.app(scope, receive, _send)\n",
      "  File \"c:\\Users\\mered\\anaconda3\\Lib\\site-packages\\gradio\\route_utils.py\", line 680, in __call__\n",
      "    await self.app(scope, receive, send)\n",
      "  File \"c:\\Users\\mered\\anaconda3\\Lib\\site-packages\\starlette\\middleware\\exceptions.py\", line 62, in __call__\n",
      "    await wrap_app_handling_exceptions(self.app, conn)(scope, receive, send)\n",
      "  File \"c:\\Users\\mered\\anaconda3\\Lib\\site-packages\\starlette\\_exception_handler.py\", line 64, in wrapped_app\n",
      "    raise exc\n",
      "  File \"c:\\Users\\mered\\anaconda3\\Lib\\site-packages\\starlette\\_exception_handler.py\", line 53, in wrapped_app\n",
      "    await app(scope, receive, sender)\n",
      "  File \"c:\\Users\\mered\\anaconda3\\Lib\\site-packages\\starlette\\routing.py\", line 758, in __call__\n",
      "    await self.middleware_stack(scope, receive, send)\n",
      "  File \"c:\\Users\\mered\\anaconda3\\Lib\\site-packages\\starlette\\routing.py\", line 778, in app\n",
      "    await route.handle(scope, receive, send)\n",
      "  File \"c:\\Users\\mered\\anaconda3\\Lib\\site-packages\\starlette\\routing.py\", line 299, in handle\n",
      "    await self.app(scope, receive, send)\n",
      "  File \"c:\\Users\\mered\\anaconda3\\Lib\\site-packages\\starlette\\routing.py\", line 79, in app\n",
      "    await wrap_app_handling_exceptions(app, request)(scope, receive, send)\n",
      "  File \"c:\\Users\\mered\\anaconda3\\Lib\\site-packages\\starlette\\_exception_handler.py\", line 64, in wrapped_app\n",
      "    raise exc\n",
      "  File \"c:\\Users\\mered\\anaconda3\\Lib\\site-packages\\starlette\\_exception_handler.py\", line 53, in wrapped_app\n",
      "    await app(scope, receive, sender)\n",
      "  File \"c:\\Users\\mered\\anaconda3\\Lib\\site-packages\\starlette\\routing.py\", line 77, in app\n",
      "    await response(scope, receive, send)\n",
      "  File \"c:\\Users\\mered\\anaconda3\\Lib\\site-packages\\starlette\\responses.py\", line 351, in __call__\n",
      "    await send(\n",
      "  File \"c:\\Users\\mered\\anaconda3\\Lib\\site-packages\\starlette\\_exception_handler.py\", line 50, in sender\n",
      "    await send(message)\n",
      "  File \"c:\\Users\\mered\\anaconda3\\Lib\\site-packages\\starlette\\_exception_handler.py\", line 50, in sender\n",
      "    await send(message)\n",
      "  File \"c:\\Users\\mered\\anaconda3\\Lib\\site-packages\\starlette\\middleware\\errors.py\", line 161, in _send\n",
      "    await send(message)\n",
      "  File \"c:\\Users\\mered\\anaconda3\\Lib\\site-packages\\uvicorn\\protocols\\http\\h11_impl.py\", line 511, in send\n",
      "    output = self.conn.send(event=h11.EndOfMessage())\n",
      "             ^^^^^^^^^^^^^^^^^^^^^^^^^^^^^^^^^^^^^^^^\n",
      "  File \"c:\\Users\\mered\\anaconda3\\Lib\\site-packages\\h11\\_connection.py\", line 512, in send\n",
      "    data_list = self.send_with_data_passthrough(event)\n",
      "                ^^^^^^^^^^^^^^^^^^^^^^^^^^^^^^^^^^^^^^\n",
      "  File \"c:\\Users\\mered\\anaconda3\\Lib\\site-packages\\h11\\_connection.py\", line 545, in send_with_data_passthrough\n",
      "    writer(event, data_list.append)\n",
      "  File \"c:\\Users\\mered\\anaconda3\\Lib\\site-packages\\h11\\_writers.py\", line 67, in __call__\n",
      "    self.send_eom(event.headers, write)\n",
      "  File \"c:\\Users\\mered\\anaconda3\\Lib\\site-packages\\h11\\_writers.py\", line 96, in send_eom\n",
      "    raise LocalProtocolError(\"Too little data for declared Content-Length\")\n",
      "h11._util.LocalProtocolError: Too little data for declared Content-Length\n",
      "Special tokens have been added in the vocabulary, make sure the associated word embeddings are fine-tuned or trained.\n"
     ]
    }
   ],
   "source": [
    "# Create Gradio app to transcribe spoken audio to text\n",
    "\n",
    "app = gr.Interface(\n",
    "    fn=transcribe_audio,\n",
    "    inputs=[\n",
    "        gr.Audio(label=\"upload audio file or click on microphone to record audio\", type=\"filepath\")], \n",
    "    outputs=gr.Textbox(label=\"transcribed audio\"))\n",
    "    \n",
    "app.launch(show_error=True)"
   ]
  }
 ],
 "metadata": {
  "kernelspec": {
   "display_name": "base",
   "language": "python",
   "name": "python3"
  },
  "language_info": {
   "codemirror_mode": {
    "name": "ipython",
    "version": 3
   },
   "file_extension": ".py",
   "mimetype": "text/x-python",
   "name": "python",
   "nbconvert_exporter": "python",
   "pygments_lexer": "ipython3",
   "version": "3.11.5"
  }
 },
 "nbformat": 4,
 "nbformat_minor": 2
}
